{
  "nbformat": 4,
  "nbformat_minor": 0,
  "metadata": {
    "colab": {
      "provenance": []
    },
    "kernelspec": {
      "name": "python3",
      "display_name": "Python 3"
    },
    "language_info": {
      "name": "python"
    }
  },
  "cells": [
    {
      "cell_type": "markdown",
      "source": [
        "# Modelo de clasificación de textos con TensorFlow"
      ],
      "metadata": {
        "id": "lWK4bKpBzSzB"
      }
    },
    {
      "cell_type": "code",
      "source": [
        "import requests\n",
        "import json\n",
        "import pandas as pd\n",
        "import numpy as np\n",
        "import re\n",
        "import io\n",
        "import tensorflow as tf\n",
        "from tensorflow import keras\n",
        "from tensorflow.keras import layers\n",
        "import tensorflow_datasets as tfds\n",
        "from tensorflow.keras.preprocessing.sequence import pad_sequences\n",
        "from tensorflow.keras.preprocessing.text import Tokenizer\n",
        "from sklearn.model_selection import train_test_split\n",
        "import tensorflow_hub as hub"
      ],
      "metadata": {
        "id": "saPKG1uVzQdp"
      },
      "execution_count": null,
      "outputs": []
    },
    {
      "cell_type": "markdown",
      "source": [
        "### Importacion del Dataset"
      ],
      "metadata": {
        "id": "X0UcX6z9zpEe"
      }
    },
    {
      "cell_type": "code",
      "source": [
        "url = \"https://storage.googleapis.com/tensorflow-1-public/course3/sarcasm.json\"\n",
        "filename = \"sarcasm.json\"\n",
        "\n",
        "response = requests.get(url)\n",
        "response.raise_for_status()\n",
        "\n",
        "with open(filename, \"wb\") as file:\n",
        "    file.write(response.content)\n",
        "\n",
        "# Load the JSON file\n",
        "with open(filename, 'r') as f:\n",
        "    datastore = json.load(f)\n",
        "\n",
        "# Accede a los datos en el archivo JSON, imprime el primer elemento\n",
        "print(datastore[1889])"
      ],
      "metadata": {
        "colab": {
          "base_uri": "https://localhost:8080/"
        },
        "id": "mH_aZoRizne3",
        "outputId": "7f8ea8d4-def7-48f0-ca00-b308cc0ca127"
      },
      "execution_count": null,
      "outputs": [
        {
          "output_type": "stream",
          "name": "stdout",
          "text": [
            "{'article_link': 'https://www.theonion.com/rugged-new-sport-utility-vehicle-takes-on-mall-parking-1819586239', 'headline': 'rugged new sport-utility vehicle takes on mall parking lot', 'is_sarcastic': 1}\n"
          ]
        }
      ]
    },
    {
      "cell_type": "code",
      "source": [
        "df = pd.DataFrame(datastore)\n",
        "df.head()"
      ],
      "metadata": {
        "colab": {
          "base_uri": "https://localhost:8080/",
          "height": 206
        },
        "id": "0e1JURdozvxF",
        "outputId": "af4f3afc-ba04-4810-b90b-296677fff9e5"
      },
      "execution_count": null,
      "outputs": [
        {
          "output_type": "execute_result",
          "data": {
            "text/plain": [
              "                                        article_link  \\\n",
              "0  https://www.huffingtonpost.com/entry/versace-b...   \n",
              "1  https://www.huffingtonpost.com/entry/roseanne-...   \n",
              "2  https://local.theonion.com/mom-starting-to-fea...   \n",
              "3  https://politics.theonion.com/boehner-just-wan...   \n",
              "4  https://www.huffingtonpost.com/entry/jk-rowlin...   \n",
              "\n",
              "                                            headline  is_sarcastic  \n",
              "0  former versace store clerk sues over secret 'b...             0  \n",
              "1  the 'roseanne' revival catches up to our thorn...             0  \n",
              "2  mom starting to fear son's web series closest ...             1  \n",
              "3  boehner just wants wife to listen, not come up...             1  \n",
              "4  j.k. rowling wishes snape happy birthday in th...             0  "
            ],
            "text/html": [
              "\n",
              "  <div id=\"df-404ad071-cdc0-490e-9216-eb468a4d5222\" class=\"colab-df-container\">\n",
              "    <div>\n",
              "<style scoped>\n",
              "    .dataframe tbody tr th:only-of-type {\n",
              "        vertical-align: middle;\n",
              "    }\n",
              "\n",
              "    .dataframe tbody tr th {\n",
              "        vertical-align: top;\n",
              "    }\n",
              "\n",
              "    .dataframe thead th {\n",
              "        text-align: right;\n",
              "    }\n",
              "</style>\n",
              "<table border=\"1\" class=\"dataframe\">\n",
              "  <thead>\n",
              "    <tr style=\"text-align: right;\">\n",
              "      <th></th>\n",
              "      <th>article_link</th>\n",
              "      <th>headline</th>\n",
              "      <th>is_sarcastic</th>\n",
              "    </tr>\n",
              "  </thead>\n",
              "  <tbody>\n",
              "    <tr>\n",
              "      <th>0</th>\n",
              "      <td>https://www.huffingtonpost.com/entry/versace-b...</td>\n",
              "      <td>former versace store clerk sues over secret 'b...</td>\n",
              "      <td>0</td>\n",
              "    </tr>\n",
              "    <tr>\n",
              "      <th>1</th>\n",
              "      <td>https://www.huffingtonpost.com/entry/roseanne-...</td>\n",
              "      <td>the 'roseanne' revival catches up to our thorn...</td>\n",
              "      <td>0</td>\n",
              "    </tr>\n",
              "    <tr>\n",
              "      <th>2</th>\n",
              "      <td>https://local.theonion.com/mom-starting-to-fea...</td>\n",
              "      <td>mom starting to fear son's web series closest ...</td>\n",
              "      <td>1</td>\n",
              "    </tr>\n",
              "    <tr>\n",
              "      <th>3</th>\n",
              "      <td>https://politics.theonion.com/boehner-just-wan...</td>\n",
              "      <td>boehner just wants wife to listen, not come up...</td>\n",
              "      <td>1</td>\n",
              "    </tr>\n",
              "    <tr>\n",
              "      <th>4</th>\n",
              "      <td>https://www.huffingtonpost.com/entry/jk-rowlin...</td>\n",
              "      <td>j.k. rowling wishes snape happy birthday in th...</td>\n",
              "      <td>0</td>\n",
              "    </tr>\n",
              "  </tbody>\n",
              "</table>\n",
              "</div>\n",
              "    <div class=\"colab-df-buttons\">\n",
              "\n",
              "  <div class=\"colab-df-container\">\n",
              "    <button class=\"colab-df-convert\" onclick=\"convertToInteractive('df-404ad071-cdc0-490e-9216-eb468a4d5222')\"\n",
              "            title=\"Convert this dataframe to an interactive table.\"\n",
              "            style=\"display:none;\">\n",
              "\n",
              "  <svg xmlns=\"http://www.w3.org/2000/svg\" height=\"24px\" viewBox=\"0 -960 960 960\">\n",
              "    <path d=\"M120-120v-720h720v720H120Zm60-500h600v-160H180v160Zm220 220h160v-160H400v160Zm0 220h160v-160H400v160ZM180-400h160v-160H180v160Zm440 0h160v-160H620v160ZM180-180h160v-160H180v160Zm440 0h160v-160H620v160Z\"/>\n",
              "  </svg>\n",
              "    </button>\n",
              "\n",
              "  <style>\n",
              "    .colab-df-container {\n",
              "      display:flex;\n",
              "      gap: 12px;\n",
              "    }\n",
              "\n",
              "    .colab-df-convert {\n",
              "      background-color: #E8F0FE;\n",
              "      border: none;\n",
              "      border-radius: 50%;\n",
              "      cursor: pointer;\n",
              "      display: none;\n",
              "      fill: #1967D2;\n",
              "      height: 32px;\n",
              "      padding: 0 0 0 0;\n",
              "      width: 32px;\n",
              "    }\n",
              "\n",
              "    .colab-df-convert:hover {\n",
              "      background-color: #E2EBFA;\n",
              "      box-shadow: 0px 1px 2px rgba(60, 64, 67, 0.3), 0px 1px 3px 1px rgba(60, 64, 67, 0.15);\n",
              "      fill: #174EA6;\n",
              "    }\n",
              "\n",
              "    .colab-df-buttons div {\n",
              "      margin-bottom: 4px;\n",
              "    }\n",
              "\n",
              "    [theme=dark] .colab-df-convert {\n",
              "      background-color: #3B4455;\n",
              "      fill: #D2E3FC;\n",
              "    }\n",
              "\n",
              "    [theme=dark] .colab-df-convert:hover {\n",
              "      background-color: #434B5C;\n",
              "      box-shadow: 0px 1px 3px 1px rgba(0, 0, 0, 0.15);\n",
              "      filter: drop-shadow(0px 1px 2px rgba(0, 0, 0, 0.3));\n",
              "      fill: #FFFFFF;\n",
              "    }\n",
              "  </style>\n",
              "\n",
              "    <script>\n",
              "      const buttonEl =\n",
              "        document.querySelector('#df-404ad071-cdc0-490e-9216-eb468a4d5222 button.colab-df-convert');\n",
              "      buttonEl.style.display =\n",
              "        google.colab.kernel.accessAllowed ? 'block' : 'none';\n",
              "\n",
              "      async function convertToInteractive(key) {\n",
              "        const element = document.querySelector('#df-404ad071-cdc0-490e-9216-eb468a4d5222');\n",
              "        const dataTable =\n",
              "          await google.colab.kernel.invokeFunction('convertToInteractive',\n",
              "                                                    [key], {});\n",
              "        if (!dataTable) return;\n",
              "\n",
              "        const docLinkHtml = 'Like what you see? Visit the ' +\n",
              "          '<a target=\"_blank\" href=https://colab.research.google.com/notebooks/data_table.ipynb>data table notebook</a>'\n",
              "          + ' to learn more about interactive tables.';\n",
              "        element.innerHTML = '';\n",
              "        dataTable['output_type'] = 'display_data';\n",
              "        await google.colab.output.renderOutput(dataTable, element);\n",
              "        const docLink = document.createElement('div');\n",
              "        docLink.innerHTML = docLinkHtml;\n",
              "        element.appendChild(docLink);\n",
              "      }\n",
              "    </script>\n",
              "  </div>\n",
              "\n",
              "\n",
              "<div id=\"df-66b2e686-7983-47f6-9a45-9b7ecf4c19a6\">\n",
              "  <button class=\"colab-df-quickchart\" onclick=\"quickchart('df-66b2e686-7983-47f6-9a45-9b7ecf4c19a6')\"\n",
              "            title=\"Suggest charts\"\n",
              "            style=\"display:none;\">\n",
              "\n",
              "<svg xmlns=\"http://www.w3.org/2000/svg\" height=\"24px\"viewBox=\"0 0 24 24\"\n",
              "     width=\"24px\">\n",
              "    <g>\n",
              "        <path d=\"M19 3H5c-1.1 0-2 .9-2 2v14c0 1.1.9 2 2 2h14c1.1 0 2-.9 2-2V5c0-1.1-.9-2-2-2zM9 17H7v-7h2v7zm4 0h-2V7h2v10zm4 0h-2v-4h2v4z\"/>\n",
              "    </g>\n",
              "</svg>\n",
              "  </button>\n",
              "\n",
              "<style>\n",
              "  .colab-df-quickchart {\n",
              "      --bg-color: #E8F0FE;\n",
              "      --fill-color: #1967D2;\n",
              "      --hover-bg-color: #E2EBFA;\n",
              "      --hover-fill-color: #174EA6;\n",
              "      --disabled-fill-color: #AAA;\n",
              "      --disabled-bg-color: #DDD;\n",
              "  }\n",
              "\n",
              "  [theme=dark] .colab-df-quickchart {\n",
              "      --bg-color: #3B4455;\n",
              "      --fill-color: #D2E3FC;\n",
              "      --hover-bg-color: #434B5C;\n",
              "      --hover-fill-color: #FFFFFF;\n",
              "      --disabled-bg-color: #3B4455;\n",
              "      --disabled-fill-color: #666;\n",
              "  }\n",
              "\n",
              "  .colab-df-quickchart {\n",
              "    background-color: var(--bg-color);\n",
              "    border: none;\n",
              "    border-radius: 50%;\n",
              "    cursor: pointer;\n",
              "    display: none;\n",
              "    fill: var(--fill-color);\n",
              "    height: 32px;\n",
              "    padding: 0;\n",
              "    width: 32px;\n",
              "  }\n",
              "\n",
              "  .colab-df-quickchart:hover {\n",
              "    background-color: var(--hover-bg-color);\n",
              "    box-shadow: 0 1px 2px rgba(60, 64, 67, 0.3), 0 1px 3px 1px rgba(60, 64, 67, 0.15);\n",
              "    fill: var(--button-hover-fill-color);\n",
              "  }\n",
              "\n",
              "  .colab-df-quickchart-complete:disabled,\n",
              "  .colab-df-quickchart-complete:disabled:hover {\n",
              "    background-color: var(--disabled-bg-color);\n",
              "    fill: var(--disabled-fill-color);\n",
              "    box-shadow: none;\n",
              "  }\n",
              "\n",
              "  .colab-df-spinner {\n",
              "    border: 2px solid var(--fill-color);\n",
              "    border-color: transparent;\n",
              "    border-bottom-color: var(--fill-color);\n",
              "    animation:\n",
              "      spin 1s steps(1) infinite;\n",
              "  }\n",
              "\n",
              "  @keyframes spin {\n",
              "    0% {\n",
              "      border-color: transparent;\n",
              "      border-bottom-color: var(--fill-color);\n",
              "      border-left-color: var(--fill-color);\n",
              "    }\n",
              "    20% {\n",
              "      border-color: transparent;\n",
              "      border-left-color: var(--fill-color);\n",
              "      border-top-color: var(--fill-color);\n",
              "    }\n",
              "    30% {\n",
              "      border-color: transparent;\n",
              "      border-left-color: var(--fill-color);\n",
              "      border-top-color: var(--fill-color);\n",
              "      border-right-color: var(--fill-color);\n",
              "    }\n",
              "    40% {\n",
              "      border-color: transparent;\n",
              "      border-right-color: var(--fill-color);\n",
              "      border-top-color: var(--fill-color);\n",
              "    }\n",
              "    60% {\n",
              "      border-color: transparent;\n",
              "      border-right-color: var(--fill-color);\n",
              "    }\n",
              "    80% {\n",
              "      border-color: transparent;\n",
              "      border-right-color: var(--fill-color);\n",
              "      border-bottom-color: var(--fill-color);\n",
              "    }\n",
              "    90% {\n",
              "      border-color: transparent;\n",
              "      border-bottom-color: var(--fill-color);\n",
              "    }\n",
              "  }\n",
              "</style>\n",
              "\n",
              "  <script>\n",
              "    async function quickchart(key) {\n",
              "      const quickchartButtonEl =\n",
              "        document.querySelector('#' + key + ' button');\n",
              "      quickchartButtonEl.disabled = true;  // To prevent multiple clicks.\n",
              "      quickchartButtonEl.classList.add('colab-df-spinner');\n",
              "      try {\n",
              "        const charts = await google.colab.kernel.invokeFunction(\n",
              "            'suggestCharts', [key], {});\n",
              "      } catch (error) {\n",
              "        console.error('Error during call to suggestCharts:', error);\n",
              "      }\n",
              "      quickchartButtonEl.classList.remove('colab-df-spinner');\n",
              "      quickchartButtonEl.classList.add('colab-df-quickchart-complete');\n",
              "    }\n",
              "    (() => {\n",
              "      let quickchartButtonEl =\n",
              "        document.querySelector('#df-66b2e686-7983-47f6-9a45-9b7ecf4c19a6 button');\n",
              "      quickchartButtonEl.style.display =\n",
              "        google.colab.kernel.accessAllowed ? 'block' : 'none';\n",
              "    })();\n",
              "  </script>\n",
              "</div>\n",
              "\n",
              "    </div>\n",
              "  </div>\n"
            ],
            "application/vnd.google.colaboratory.intrinsic+json": {
              "type": "dataframe",
              "variable_name": "df",
              "summary": "{\n  \"name\": \"df\",\n  \"rows\": 26709,\n  \"fields\": [\n    {\n      \"column\": \"article_link\",\n      \"properties\": {\n        \"dtype\": \"string\",\n        \"num_unique_values\": 26708,\n        \"samples\": [\n          \"https://www.theonion.com/isis-recruiter-excited-to-be-talking-to-popular-high-sc-1819579508\",\n          \"https://www.huffingtonpost.com/entry/jimmy-fallon-could-barely-keep-it-together-during-this-cardi-b-interview_us_5a3c01aae4b06d1621b2de98\",\n          \"https://www.huffingtonpost.com/entry/4-ways-to-support-farmtos_b_5906452.html\"\n        ],\n        \"semantic_type\": \"\",\n        \"description\": \"\"\n      }\n    },\n    {\n      \"column\": \"headline\",\n      \"properties\": {\n        \"dtype\": \"string\",\n        \"num_unique_values\": 26602,\n        \"samples\": [\n          \"departing employee not quite important enough for send-off\",\n          \"college student still managing to look like asshole in picture of village he helped build\",\n          \"fun sticker placed on child's ventilator\"\n        ],\n        \"semantic_type\": \"\",\n        \"description\": \"\"\n      }\n    },\n    {\n      \"column\": \"is_sarcastic\",\n      \"properties\": {\n        \"dtype\": \"number\",\n        \"std\": 0,\n        \"min\": 0,\n        \"max\": 1,\n        \"num_unique_values\": 2,\n        \"samples\": [\n          1,\n          0\n        ],\n        \"semantic_type\": \"\",\n        \"description\": \"\"\n      }\n    }\n  ]\n}"
            }
          },
          "metadata": {},
          "execution_count": 4
        }
      ]
    },
    {
      "cell_type": "markdown",
      "source": [
        "#### Division del dataset en datos de entrenamiento, validacion y test.\n",
        "- Entrenamiento 80%\n",
        "- Validacion 10%\n",
        "- Test 10%\n",
        "\n",
        "\n",
        "Se toma una muestra aleatorea del 100% de los datos"
      ],
      "metadata": {
        "id": "38IRByxVz5N7"
      }
    },
    {
      "cell_type": "code",
      "source": [
        "train, val, test = np.split(df.sample(frac=1), [int(0.8*len(df)), int(0.9*len(df))])\n",
        "len(train), len(val), len(test)"
      ],
      "metadata": {
        "colab": {
          "base_uri": "https://localhost:8080/"
        },
        "id": "ysRHKvPjz2IG",
        "outputId": "743419e3-42ba-4afa-aeba-02a231601cd8"
      },
      "execution_count": null,
      "outputs": [
        {
          "output_type": "execute_result",
          "data": {
            "text/plain": [
              "(21367, 2671, 2671)"
            ]
          },
          "metadata": {},
          "execution_count": 5
        }
      ]
    },
    {
      "cell_type": "markdown",
      "source": [
        "#### Convertir un Dataframe en un objeto dataset de Tensorfow\n",
        "\n",
        "- Esta funcion se copió de la documentacion de estructura de datos de TensorFlow;\n",
        "https://www.tensorflow.org/tutorials/structured_data/preprocessing_layers?hl=es-419"
      ],
      "metadata": {
        "id": "dNjO6E9a0D5y"
      }
    },
    {
      "cell_type": "code",
      "source": [
        "def df_to_dataset(dataframe, shuffle=True, batch_size=104):\n",
        "  df = dataframe.copy()\n",
        "  labels = df.pop('is_sarcastic')\n",
        "  df = df[\"headline\"]\n",
        "  ds = tf.data.Dataset.from_tensor_slices((df, labels))\n",
        "  if shuffle:\n",
        "    ds = ds.shuffle(buffer_size=len(dataframe))\n",
        "  ds = ds.batch(batch_size)\n",
        "  ds = ds.prefetch(tf.data.AUTOTUNE)\n",
        "  return ds"
      ],
      "metadata": {
        "id": "M38mJoz40GGG"
      },
      "execution_count": null,
      "outputs": []
    },
    {
      "cell_type": "code",
      "source": [
        "train_data = df_to_dataset(train)\n",
        "valid_data = df_to_dataset(val)\n",
        "test_data = df_to_dataset(test)\n",
        "\n",
        "list(train_data)[1]"
      ],
      "metadata": {
        "colab": {
          "base_uri": "https://localhost:8080/"
        },
        "id": "aMhYdr4s0LVI",
        "outputId": "3521ddf6-88c7-4000-a956-8083c9a3378d"
      },
      "execution_count": null,
      "outputs": [
        {
          "output_type": "execute_result",
          "data": {
            "text/plain": [
              "(<tf.Tensor: shape=(104,), dtype=string, numpy=\n",
              " array([b'is the gates foundation investing in the abuse of palestinian prisoners?',\n",
              "        b'historical archives: to be sold - tri-cornered shoes',\n",
              "        b'less than half of the money pledged to fight ebola reached affected countries',\n",
              "        b\"ctrl+ plus: a closer look at amc's halt and catch fire\",\n",
              "        b'in defense of the promposal', b'fussy eater 38',\n",
              "        b'sunday roundup',\n",
              "        b'thankful for our power: a thankful discourse in a time of reckoning',\n",
              "        b\"here's why you need to know broadway and tv star andy mientus\",\n",
              "        b'30 things about anxiety nobody talks about',\n",
              "        b\"'entourage' the movie -- who cares?\",\n",
              "        b'secretary of education under investigation for falsifying hall passes',\n",
              "        b'martin shkreli faces rough stay in prison system where inmates who funded hair theft are lowest caste',\n",
              "        b'nasa issues formal apology for 1969 genocide of moon natives',\n",
              "        b\"in the weeks before trump takes office, obama's mad dash to save public lands\",\n",
              "        b\"5 crazy things about monday night's historic kansas-oklahoma game\",\n",
              "        b'gop warns refugees likely to be driven to terrorism by way america would treat them',\n",
              "        b'anchor ad-libs news with 97 percent accuracy',\n",
              "        b\"group of '90s footnotes welcomes gingrich home\",\n",
              "        b'bitchy girlfriend just asking for anne hathaway to swoop in, steal man away',\n",
              "        b'kid brings joy to louisiana with sneaky newscast dance moves',\n",
              "        b'elder women as agents of change',\n",
              "        b'evidence piling up mom slept with one of her college professors',\n",
              "        b'man with eye patch in town for...business',\n",
              "        b'syrian rebels fear government assault on besieged, starving daraya',\n",
              "        b'spring skiing in southern vermont',\n",
              "        b\"trump told friends 'you all just got a lot richer' from tax bill: report\",\n",
              "        b'months of painstaking practice critiquing celebrity fashion comes down to this for area woman',\n",
              "        b'arcade fire, bon iver, strokes form supergroup for one night only',\n",
              "        b'negative parent-teacher conference not exactly eye-opening for area mother',\n",
              "        b\"kansas secretary of state: only obstacle voter id causes may be 'exerting calories'\",\n",
              "        b\"prog noir and beyond: conversations with tony levin, cactus' carmine appice, jim mccarty, and jake shimabukuro\",\n",
              "        b\"nurse to grab lunch right after she finishes draining bile from man's liver\",\n",
              "        b'quaker releases new plain flavor-blasted rice cakes',\n",
              "        b'teaching english by the beach in vietnam',\n",
              "        b\"why jb smoove doesn't want chris rock to boycott the oscars\",\n",
              "        b'these simple tricks will make it way easier to work from home',\n",
              "        b\"texas high school coach allegedly told black students 'i'm going to hang you in that tree'\",\n",
              "        b'trump lawyer sends cease-and-desist letter to steve bannon',\n",
              "        b\"joseph gordon-levitt performs 'rhythm nation' almost better than janet jackson herself\",\n",
              "        b'looking through the glass ceiling',\n",
              "        b'jesse williams set to be honored with humanitarian award at the 2016 bet awards',\n",
              "        b'pretty obvious which sibling going to have to deal with all the nursing home stuff',\n",
              "        b'woman flattered complete stranger would say something so nice about her tits',\n",
              "        b'medical breakthrough provides elderly woman with 2 extra years of inconveniencing family',\n",
              "        b\"tiffani thiessen's daughter and newborn son are beyond adorable\",\n",
              "        b'no african citizens could attend a summit on african trade after visas denied',\n",
              "        b'confused firefighters fail to rescue child wearing firefighter costume',\n",
              "        b\"parents peeved their kids' hatchimals are cursing up a storm\",\n",
              "        b'how a supreme court ruling on abortion could wreak havoc in the states',\n",
              "        b\"heavy rain floods university's library canteen in just 2 minutes\",\n",
              "        b'david axelrod suggests hillary clinton will be seen as less complex alternative to obama',\n",
              "        b\"harry styles will make his solo debut on 'saturday night live'\",\n",
              "        b'college student wants people to eat chik-fil-a and ketchup off her body',\n",
              "        b'candidate turns to focus group for position on rape',\n",
              "        b\"national women's hockey league player comes out as transgender\",\n",
              "        b'johnson & johnson introduces self-lotioning baby',\n",
              "        b'11 times the olsen twins dressed in a shambles and still looked better than you',\n",
              "        b\"embarrassed library of congress can't believe some of the albums it used to be into\",\n",
              "        b'unpopped kernels costing u.s. billions',\n",
              "        b'if you see a muslim at the airport',\n",
              "        b'biden kicked out of laundromat after shag rug floods washing machine',\n",
              "        b'watch: clearing world anger',\n",
              "        b'coworker not nearly as fun drunk as originally suspected',\n",
              "        b'attorney, client privileged',\n",
              "        b'let us not celebrate a fifth anniversary of the syrian conflict',\n",
              "        b'joe paterno dies in hospital; doctors promise to tell their superiors first thing tomorrow',\n",
              "        b'opium-inspired ad executive composes epic tums jingle',\n",
              "        b'hackers breached u.s. election agency after vote, according to security firm',\n",
              "        b\"dear chuck todd, please don't enable liars\",\n",
              "        b'gunman kills at least two american advisers in kabul shooting',\n",
              "        b'schock is scrutinized around the country, but especially in his home district',\n",
              "        b'106 things you can do to bring about the queer revolution',\n",
              "        b\"paleontologists: 'we've been looking at dinosaurs upside down'\",\n",
              "        b'what do you know about the colors of nature?',\n",
              "        b'zeke thomas wants gay men to stop staying silent about assault',\n",
              "        b'report: all the other races coming to take your stuff',\n",
              "        b'proud father teaches son how to shave eyebrows for first time',\n",
              "        b\"america ferrera's response to reporter's tone deaf question will make you cheer\",\n",
              "        b\"'97 neons to come in three hideous new colors\",\n",
              "        b'bill cosby feeling better now',\n",
              "        b'7 things that separate average workers from rock stars',\n",
              "        b'pope benedict leaves church in helicopter with lebron james, paul feig for some reason',\n",
              "        b'even chrissy teigen has a legendary bill murray story',\n",
              "        b'j.f.k. high cougars to go, fight, win',\n",
              "        b\"ariana grande performs 'break free' on 'snl'\",\n",
              "        b'family thought grandfather might enjoy watching worst little league game imaginable',\n",
              "        b'remington debuts new split barrel murder-suicide shotgun',\n",
              "        b\"grandparents' cabinets contain brand of cookies previously unknown to humankind\",\n",
              "        b'more states lean toward medicaid expansion',\n",
              "        b\"these brave souls decided to taste pregnant women's bizarre cravings\",\n",
              "        b'kansas state refused to investigate sexual assaults because they happened off-campus, lawsuit says',\n",
              "        b\"wealthy donors pump millions into sanders' campaign in last-ditch effort to destroy his credibility\",\n",
              "        b'#napaquake:  how you can help keep #napastrong',\n",
              "        b\"michelle obama finally gets around to reading 'dreams from my father'\",\n",
              "        b'innocent man unrepentant',\n",
              "        b\"'curses!' shouts fist-shaking meals on wheels ringleader as trump cuts off gravy train\",\n",
              "        b'budweiser unveils social anxiety bottle with 900% more label to pick at',\n",
              "        b'man pulls up bricks to rescue a pregnant dog that was buried alive',\n",
              "        b'right whales could face extinction after deadly year, researchers say',\n",
              "        b\"'the economist' to halt production for month to let readers catch up\",\n",
              "        b\"sunday show hosts hit back on trump administration's lies\",\n",
              "        b\"rep. david cicilline: lgbt people are entitled to 'full equality'\",\n",
              "        b'donald trump responds to alicia machado by bragging he saved her job'],\n",
              "       dtype=object)>,\n",
              " <tf.Tensor: shape=(104,), dtype=int64, numpy=\n",
              " array([0, 1, 0, 0, 0, 1, 0, 0, 0, 0, 0, 1, 1, 1, 0, 0, 1, 1, 1, 1, 0, 0,\n",
              "        1, 1, 0, 0, 0, 1, 0, 1, 0, 0, 1, 1, 0, 0, 0, 0, 0, 0, 0, 0, 1, 1,\n",
              "        1, 0, 0, 1, 0, 0, 0, 0, 0, 0, 1, 0, 1, 0, 1, 1, 0, 1, 0, 1, 1, 0,\n",
              "        1, 1, 0, 0, 0, 0, 0, 1, 0, 0, 1, 1, 0, 1, 1, 0, 1, 0, 1, 0, 1, 1,\n",
              "        1, 0, 0, 0, 1, 0, 1, 1, 1, 1, 0, 0, 1, 0, 0, 0])>)"
            ]
          },
          "metadata": {},
          "execution_count": 7
        }
      ]
    },
    {
      "cell_type": "markdown",
      "source": [
        "#### Crear una capa de embedding con un modelo de texto pre-entrenado llamado \"nnlm-en-dim50\" Disponible en tensorflow hub"
      ],
      "metadata": {
        "id": "VOHxSaud0S5h"
      }
    },
    {
      "cell_type": "code",
      "source": [
        "embedding = \"https://tfhub.dev/google/nnlm-en-dim50/2\"\n",
        "hub_layer = hub.KerasLayer(embedding, dtype=tf.string, trainable=True)"
      ],
      "metadata": {
        "id": "uZCLCHNj0TsH"
      },
      "execution_count": null,
      "outputs": []
    },
    {
      "cell_type": "code",
      "source": [
        "hub_layer(list(train_data)[0][0])"
      ],
      "metadata": {
        "colab": {
          "base_uri": "https://localhost:8080/"
        },
        "id": "sq53Ixax0X1-",
        "outputId": "f1ce352e-1e6e-4089-efb9-d3af655707c0"
      },
      "execution_count": null,
      "outputs": [
        {
          "output_type": "execute_result",
          "data": {
            "text/plain": [
              "<tf.Tensor: shape=(104, 50), dtype=float32, numpy=\n",
              "array([[ 0.37682086, -0.15507877, -0.2031259 , ...,  0.29483482,\n",
              "         0.11270191, -0.00884049],\n",
              "       [ 0.09828453,  0.23514761, -0.1905469 , ..., -0.0322963 ,\n",
              "        -0.11530775, -0.18959038],\n",
              "       [ 0.20288342, -0.19590287,  0.01126989, ...,  0.05338063,\n",
              "         0.34669214, -0.13541856],\n",
              "       ...,\n",
              "       [ 0.26411903, -0.22366555, -0.1783577 , ..., -0.22504963,\n",
              "         0.19972871, -0.10343295],\n",
              "       [ 0.24107094, -0.09137625, -0.37233743, ..., -0.07471686,\n",
              "         0.28699568,  0.08105996],\n",
              "       [ 0.0302416 ,  0.01768361,  0.18121883, ...,  0.0176788 ,\n",
              "        -0.07933996,  0.23331033]], dtype=float32)>"
            ]
          },
          "metadata": {},
          "execution_count": 9
        }
      ]
    },
    {
      "cell_type": "markdown",
      "source": [
        "#### Modelo de red neuronal secuencial"
      ],
      "metadata": {
        "id": "VaE5oXWB0eK4"
      }
    },
    {
      "cell_type": "code",
      "source": [
        "model = tf.keras.Sequential()\n",
        "model.add(hub_layer)\n",
        "model.add(tf.keras.layers.Dense(16, activation='relu'))\n",
        "model.add(tf.keras.layers.Dropout(0.4))\n",
        "model.add(tf.keras.layers.Dense(16, activation='relu'))\n",
        "model.add(tf.keras.layers.Dropout(0.4))\n",
        "model.add(tf.keras.layers.Dense(1, activation='sigmoid'))"
      ],
      "metadata": {
        "id": "kmCIU5BK0iJ2"
      },
      "execution_count": null,
      "outputs": []
    },
    {
      "cell_type": "code",
      "source": [
        "model.compile(optimizer=tf.keras.optimizers.Adam(learning_rate=0.001),\n",
        "              loss=tf.keras.losses.BinaryCrossentropy(),\n",
        "              metrics=['accuracy'])"
      ],
      "metadata": {
        "id": "tcB0SrN30mqj"
      },
      "execution_count": null,
      "outputs": []
    },
    {
      "cell_type": "code",
      "source": [
        "model.evaluate(train_data)"
      ],
      "metadata": {
        "colab": {
          "base_uri": "https://localhost:8080/"
        },
        "id": "4P9Ev-_S0qld",
        "outputId": "63adde95-bc6e-4e09-99c2-daffe73c3eb3"
      },
      "execution_count": null,
      "outputs": [
        {
          "output_type": "stream",
          "name": "stdout",
          "text": [
            "206/206 [==============================] - 1s 2ms/step - loss: 0.6838 - accuracy: 0.5719\n"
          ]
        },
        {
          "output_type": "execute_result",
          "data": {
            "text/plain": [
              "[0.68378084897995, 0.5719099640846252]"
            ]
          },
          "metadata": {},
          "execution_count": 12
        }
      ]
    },
    {
      "cell_type": "code",
      "source": [
        "model.evaluate(valid_data)"
      ],
      "metadata": {
        "colab": {
          "base_uri": "https://localhost:8080/"
        },
        "id": "SVfYENWW0uPD",
        "outputId": "db0bf843-6700-4b6f-a1bb-69fc528a4f62"
      },
      "execution_count": null,
      "outputs": [
        {
          "output_type": "stream",
          "name": "stdout",
          "text": [
            "26/26 [==============================] - 0s 2ms/step - loss: 0.6834 - accuracy: 0.5650\n"
          ]
        },
        {
          "output_type": "execute_result",
          "data": {
            "text/plain": [
              "[0.6833930611610413, 0.5649569630622864]"
            ]
          },
          "metadata": {},
          "execution_count": 13
        }
      ]
    },
    {
      "cell_type": "code",
      "source": [
        "history = model.fit(train_data, epochs=3, validation_data=valid_data)"
      ],
      "metadata": {
        "colab": {
          "base_uri": "https://localhost:8080/"
        },
        "id": "c2d94DXG0wmm",
        "outputId": "3debd54a-2a1d-4fc4-94e0-f5164e639f9a"
      },
      "execution_count": null,
      "outputs": [
        {
          "output_type": "stream",
          "name": "stdout",
          "text": [
            "Epoch 1/3\n",
            "206/206 [==============================] - 259s 1s/step - loss: 0.5871 - accuracy: 0.6744 - val_loss: 0.4134 - val_accuracy: 0.8195\n",
            "Epoch 2/3\n",
            "206/206 [==============================] - 261s 1s/step - loss: 0.3582 - accuracy: 0.8602 - val_loss: 0.3462 - val_accuracy: 0.8439\n",
            "Epoch 3/3\n",
            "206/206 [==============================] - 272s 1s/step - loss: 0.2336 - accuracy: 0.9219 - val_loss: 0.3639 - val_accuracy: 0.8506\n"
          ]
        }
      ]
    },
    {
      "cell_type": "code",
      "source": [
        "model.evaluate(test_data)"
      ],
      "metadata": {
        "colab": {
          "base_uri": "https://localhost:8080/"
        },
        "id": "cX4bbTH800B0",
        "outputId": "5a43c2d2-25db-4a44-d514-f74552f4398b"
      },
      "execution_count": null,
      "outputs": [
        {
          "output_type": "stream",
          "name": "stdout",
          "text": [
            "26/26 [==============================] - 4s 163ms/step - loss: 0.3802 - accuracy: 0.8465\n"
          ]
        },
        {
          "output_type": "execute_result",
          "data": {
            "text/plain": [
              "[0.3802497684955597, 0.8464994430541992]"
            ]
          },
          "metadata": {},
          "execution_count": 15
        }
      ]
    },
    {
      "cell_type": "markdown",
      "source": [
        "Prueba prediciendo sentencias"
      ],
      "metadata": {
        "id": "D65kHinh5CE4"
      }
    },
    {
      "cell_type": "code",
      "source": [
        "# Supongamos que tienes una sentencia que deseas predecir\n",
        "\n",
        "sentencia = 'ohio governor makes desperate plea to aquaman'\n",
        "\n",
        "# Preprocesamiento de la sentencia\n",
        "preprocessed_sentence = [sentencia]  # Convertir la sentencia en una lista de cadenas de texto\n",
        "\n",
        "# Obtener la predicción del modelo\n",
        "prediction = model.predict(preprocessed_sentence)\n",
        "\n",
        "# Interpretar la predicción\n",
        "if prediction[0] < 0.5:\n",
        "    print(\"La sentencia no es sarcástica\")\n",
        "else:\n",
        "    print(\"La sentencia es sarcástica\")"
      ],
      "metadata": {
        "colab": {
          "base_uri": "https://localhost:8080/"
        },
        "id": "_15vXUwk3bJK",
        "outputId": "db2c83f5-6310-40cd-db8a-f660bef88342"
      },
      "execution_count": null,
      "outputs": [
        {
          "output_type": "stream",
          "name": "stdout",
          "text": [
            "1/1 [==============================] - 0s 206ms/step\n",
            "La sentencia es sarcástica\n"
          ]
        }
      ]
    },
    {
      "cell_type": "code",
      "source": [
        "mask  = df[\"headline\"] == 'ohio governor makes desperate plea to aquaman'\n",
        "df[mask]"
      ],
      "metadata": {
        "colab": {
          "base_uri": "https://localhost:8080/",
          "height": 81
        },
        "id": "Rc7pAhuI3ikS",
        "outputId": "689c70cc-28b8-454c-8d16-80c5bf45beca"
      },
      "execution_count": null,
      "outputs": [
        {
          "output_type": "execute_result",
          "data": {
            "text/plain": [
              "                                            article_link  \\\n",
              "11330  https://politics.theonion.com/ohio-governor-ma...   \n",
              "\n",
              "                                            headline  is_sarcastic  \n",
              "11330  ohio governor makes desperate plea to aquaman             1  "
            ],
            "text/html": [
              "\n",
              "  <div id=\"df-9415378b-eaa7-476d-936d-5c7922ce6db1\" class=\"colab-df-container\">\n",
              "    <div>\n",
              "<style scoped>\n",
              "    .dataframe tbody tr th:only-of-type {\n",
              "        vertical-align: middle;\n",
              "    }\n",
              "\n",
              "    .dataframe tbody tr th {\n",
              "        vertical-align: top;\n",
              "    }\n",
              "\n",
              "    .dataframe thead th {\n",
              "        text-align: right;\n",
              "    }\n",
              "</style>\n",
              "<table border=\"1\" class=\"dataframe\">\n",
              "  <thead>\n",
              "    <tr style=\"text-align: right;\">\n",
              "      <th></th>\n",
              "      <th>article_link</th>\n",
              "      <th>headline</th>\n",
              "      <th>is_sarcastic</th>\n",
              "    </tr>\n",
              "  </thead>\n",
              "  <tbody>\n",
              "    <tr>\n",
              "      <th>11330</th>\n",
              "      <td>https://politics.theonion.com/ohio-governor-ma...</td>\n",
              "      <td>ohio governor makes desperate plea to aquaman</td>\n",
              "      <td>1</td>\n",
              "    </tr>\n",
              "  </tbody>\n",
              "</table>\n",
              "</div>\n",
              "    <div class=\"colab-df-buttons\">\n",
              "\n",
              "  <div class=\"colab-df-container\">\n",
              "    <button class=\"colab-df-convert\" onclick=\"convertToInteractive('df-9415378b-eaa7-476d-936d-5c7922ce6db1')\"\n",
              "            title=\"Convert this dataframe to an interactive table.\"\n",
              "            style=\"display:none;\">\n",
              "\n",
              "  <svg xmlns=\"http://www.w3.org/2000/svg\" height=\"24px\" viewBox=\"0 -960 960 960\">\n",
              "    <path d=\"M120-120v-720h720v720H120Zm60-500h600v-160H180v160Zm220 220h160v-160H400v160Zm0 220h160v-160H400v160ZM180-400h160v-160H180v160Zm440 0h160v-160H620v160ZM180-180h160v-160H180v160Zm440 0h160v-160H620v160Z\"/>\n",
              "  </svg>\n",
              "    </button>\n",
              "\n",
              "  <style>\n",
              "    .colab-df-container {\n",
              "      display:flex;\n",
              "      gap: 12px;\n",
              "    }\n",
              "\n",
              "    .colab-df-convert {\n",
              "      background-color: #E8F0FE;\n",
              "      border: none;\n",
              "      border-radius: 50%;\n",
              "      cursor: pointer;\n",
              "      display: none;\n",
              "      fill: #1967D2;\n",
              "      height: 32px;\n",
              "      padding: 0 0 0 0;\n",
              "      width: 32px;\n",
              "    }\n",
              "\n",
              "    .colab-df-convert:hover {\n",
              "      background-color: #E2EBFA;\n",
              "      box-shadow: 0px 1px 2px rgba(60, 64, 67, 0.3), 0px 1px 3px 1px rgba(60, 64, 67, 0.15);\n",
              "      fill: #174EA6;\n",
              "    }\n",
              "\n",
              "    .colab-df-buttons div {\n",
              "      margin-bottom: 4px;\n",
              "    }\n",
              "\n",
              "    [theme=dark] .colab-df-convert {\n",
              "      background-color: #3B4455;\n",
              "      fill: #D2E3FC;\n",
              "    }\n",
              "\n",
              "    [theme=dark] .colab-df-convert:hover {\n",
              "      background-color: #434B5C;\n",
              "      box-shadow: 0px 1px 3px 1px rgba(0, 0, 0, 0.15);\n",
              "      filter: drop-shadow(0px 1px 2px rgba(0, 0, 0, 0.3));\n",
              "      fill: #FFFFFF;\n",
              "    }\n",
              "  </style>\n",
              "\n",
              "    <script>\n",
              "      const buttonEl =\n",
              "        document.querySelector('#df-9415378b-eaa7-476d-936d-5c7922ce6db1 button.colab-df-convert');\n",
              "      buttonEl.style.display =\n",
              "        google.colab.kernel.accessAllowed ? 'block' : 'none';\n",
              "\n",
              "      async function convertToInteractive(key) {\n",
              "        const element = document.querySelector('#df-9415378b-eaa7-476d-936d-5c7922ce6db1');\n",
              "        const dataTable =\n",
              "          await google.colab.kernel.invokeFunction('convertToInteractive',\n",
              "                                                    [key], {});\n",
              "        if (!dataTable) return;\n",
              "\n",
              "        const docLinkHtml = 'Like what you see? Visit the ' +\n",
              "          '<a target=\"_blank\" href=https://colab.research.google.com/notebooks/data_table.ipynb>data table notebook</a>'\n",
              "          + ' to learn more about interactive tables.';\n",
              "        element.innerHTML = '';\n",
              "        dataTable['output_type'] = 'display_data';\n",
              "        await google.colab.output.renderOutput(dataTable, element);\n",
              "        const docLink = document.createElement('div');\n",
              "        docLink.innerHTML = docLinkHtml;\n",
              "        element.appendChild(docLink);\n",
              "      }\n",
              "    </script>\n",
              "  </div>\n",
              "\n",
              "\n",
              "    </div>\n",
              "  </div>\n"
            ],
            "application/vnd.google.colaboratory.intrinsic+json": {
              "type": "dataframe",
              "summary": "{\n  \"name\": \"df[mask]\",\n  \"rows\": 1,\n  \"fields\": [\n    {\n      \"column\": \"article_link\",\n      \"properties\": {\n        \"dtype\": \"string\",\n        \"num_unique_values\": 1,\n        \"samples\": [\n          \"https://politics.theonion.com/ohio-governor-makes-desperate-plea-to-aquaman-1819586236\"\n        ],\n        \"semantic_type\": \"\",\n        \"description\": \"\"\n      }\n    },\n    {\n      \"column\": \"headline\",\n      \"properties\": {\n        \"dtype\": \"string\",\n        \"num_unique_values\": 1,\n        \"samples\": [\n          \"ohio governor makes desperate plea to aquaman\"\n        ],\n        \"semantic_type\": \"\",\n        \"description\": \"\"\n      }\n    },\n    {\n      \"column\": \"is_sarcastic\",\n      \"properties\": {\n        \"dtype\": \"number\",\n        \"std\": null,\n        \"min\": 1,\n        \"max\": 1,\n        \"num_unique_values\": 1,\n        \"samples\": [\n          1\n        ],\n        \"semantic_type\": \"\",\n        \"description\": \"\"\n      }\n    }\n  ]\n}"
            }
          },
          "metadata": {},
          "execution_count": 58
        }
      ]
    },
    {
      "cell_type": "code",
      "source": [
        "prediction[0]"
      ],
      "metadata": {
        "colab": {
          "base_uri": "https://localhost:8080/"
        },
        "id": "AVMQciBQ3nih",
        "outputId": "6d21c575-723b-41e5-8030-47478a50b765"
      },
      "execution_count": null,
      "outputs": [
        {
          "output_type": "execute_result",
          "data": {
            "text/plain": [
              "array([0.66217107], dtype=float32)"
            ]
          },
          "metadata": {},
          "execution_count": 59
        }
      ]
    },
    {
      "cell_type": "markdown",
      "source": [
        "En los siguientes ejemplos se utilizan titulares de noticias que no se encuentran en el dataset"
      ],
      "metadata": {
        "id": "yoV3gIf03tzy"
      }
    },
    {
      "cell_type": "code",
      "source": [
        "# La siguiente sentencia no es sarcastica\n",
        "sentencia = \"police say kansas city shooting was the result of dispute\"\n",
        "\n",
        "# Preprocesamiento de la sentencia\n",
        "preprocessed_sentence = [sentencia]  # Convertir la sentencia en una lista de cadenas de texto\n",
        "\n",
        "# Obtener la predicción del modelo\n",
        "prediction = model.predict(preprocessed_sentence)\n",
        "\n",
        "# Interpretar la predicción\n",
        "if prediction[0] < 0.5:\n",
        "    print(\"La sentencia no es sarcástica\")\n",
        "else:\n",
        "    print(\"La sentencia es sarcástica\")"
      ],
      "metadata": {
        "colab": {
          "base_uri": "https://localhost:8080/"
        },
        "id": "Eex8cEcr3v2c",
        "outputId": "76632cd2-83a2-4c38-d4be-8d82c8dde857"
      },
      "execution_count": null,
      "outputs": [
        {
          "output_type": "stream",
          "name": "stdout",
          "text": [
            "1/1 [==============================] - 0s 207ms/step\n",
            "La sentencia no es sarcástica\n"
          ]
        }
      ]
    },
    {
      "cell_type": "code",
      "source": [
        "prediction[0]"
      ],
      "metadata": {
        "colab": {
          "base_uri": "https://localhost:8080/"
        },
        "id": "IL6-PCcU30Sv",
        "outputId": "76ecf138-b0f3-4265-f2c2-eaaa8c7bc890"
      },
      "execution_count": null,
      "outputs": [
        {
          "output_type": "execute_result",
          "data": {
            "text/plain": [
              "array([0.00216962], dtype=float32)"
            ]
          },
          "metadata": {},
          "execution_count": 22
        }
      ]
    },
    {
      "cell_type": "code",
      "source": [
        "# La siguiente sentencia es sarcastica del portal web babylonbee.com\n",
        "\n",
        "sentencia = \"Capitol Janitors Deep Clean Senate Chamber With Flamethrowers\"\n",
        "\n",
        "# Preprocesamiento de la sentencia\n",
        "preprocessed_sentence = [sentencia]  # Convertir la sentencia en una lista de cadenas de texto\n",
        "\n",
        "# Obtener la predicción del modelo\n",
        "prediction = model.predict(preprocessed_sentence)\n",
        "\n",
        "# Interpretar la predicción\n",
        "if prediction[0] < 0.5:\n",
        "    print(\"La sentencia no es sarcástica\")\n",
        "else:\n",
        "    print(\"La sentencia es sarcástica\")"
      ],
      "metadata": {
        "colab": {
          "base_uri": "https://localhost:8080/"
        },
        "id": "mkrS_s1432iW",
        "outputId": "0a645813-5597-4743-9d07-b9d64f72e06b"
      },
      "execution_count": null,
      "outputs": [
        {
          "output_type": "stream",
          "name": "stdout",
          "text": [
            "1/1 [==============================] - 0s 196ms/step\n",
            "La sentencia es sarcástica\n"
          ]
        }
      ]
    },
    {
      "cell_type": "code",
      "source": [
        "prediction[0]"
      ],
      "metadata": {
        "colab": {
          "base_uri": "https://localhost:8080/"
        },
        "id": "srISprg936e1",
        "outputId": "6a19e0a4-3d0c-46dc-9bba-98370ad001d2"
      },
      "execution_count": null,
      "outputs": [
        {
          "output_type": "execute_result",
          "data": {
            "text/plain": [
              "array([0.55804247], dtype=float32)"
            ]
          },
          "metadata": {},
          "execution_count": 70
        }
      ]
    }
  ]
}